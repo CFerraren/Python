{
 "cells": [
  {
   "cell_type": "markdown",
   "metadata": {},
   "source": [
    "# Cleaning Data"
   ]
  },
  {
   "cell_type": "markdown",
   "metadata": {},
   "source": [
    "---"
   ]
  },
  {
   "cell_type": "code",
   "execution_count": 1,
   "metadata": {},
   "outputs": [],
   "source": [
    "import os\n",
    "import csv\n",
    "\n",
    "udemy_csv = os.path.join(\"Resources\", \"WebDevelopment.csv\")"
   ]
  },
  {
   "cell_type": "code",
   "execution_count": 2,
   "metadata": {},
   "outputs": [],
   "source": [
    "# Lists to store data\n",
    "title = []\n",
    "price = []\n",
    "subscribers = []\n",
    "reviews = []\n",
    "review_percent = []\n",
    "length = []"
   ]
  },
  {
   "cell_type": "code",
   "execution_count": 3,
   "metadata": {},
   "outputs": [],
   "source": [
    "with open(udemy_csv, newline=\"\") as csvfile:\n",
    "    csvreader= csv.reader(csvfile, delimiter=\",\")\n",
    "    for row in csvreader:\n",
    "        # Add title\n",
    "        title.append(row[1])\n",
    "\n",
    "        # Add price\n",
    "        price.append(row[4])\n",
    "\n",
    "        # Add number of subscribers\n",
    "        subscribers.append(row[5])\n",
    "\n",
    "        # Add amount of reviews\n",
    "        reviews.append(row[6])\n",
    "\n",
    "        # Determine percent of review left to 2 decimal places\n",
    "        percent = round(int(row[6])/int(row[5]), 2)\n",
    "        review_percent.append(percent)\n",
    "\n",
    "        # Get length of the course to just a number\n",
    "        new_length = row[9].split(\" \")\n",
    "        length.append(new_length[0])\n",
    "\n",
    "# Zip lists together\n",
    "cleaned_csv = zip(title, price, subscribers, reviews, review_percent,length)"
   ]
  },
  {
   "cell_type": "code",
   "execution_count": 4,
   "metadata": {},
   "outputs": [],
   "source": [
    "# Set variable for output file\n",
    "output_file = os.path.join(\"Resources\", \"web_final.csv\")\n",
    "\n",
    "#  Open the output file\n",
    "with open(output_file, \"w\", newline=\"\") as datafile:\n",
    "    writer = csv.writer(datafile)\n",
    "\n",
    "    # Write the header row\n",
    "    writer.writerow([\"Title\", \"Course Price\", \"Subscribers\", \"Reviews Left\",\n",
    "                     \"Percent of Reviews\", \"Length of Course\"])\n",
    "\n",
    "    # Write in zipped rows\n",
    "    writer.writerows(cleaned_csv)"
   ]
  },
  {
   "cell_type": "code",
   "execution_count": null,
   "metadata": {},
   "outputs": [],
   "source": []
  }
 ],
 "metadata": {
  "kernelspec": {
   "display_name": "Python 3",
   "language": "python",
   "name": "python3"
  },
  "language_info": {
   "codemirror_mode": {
    "name": "ipython",
    "version": 3
   },
   "file_extension": ".py",
   "mimetype": "text/x-python",
   "name": "python",
   "nbconvert_exporter": "python",
   "pygments_lexer": "ipython3",
   "version": "3.6.5"
  }
 },
 "nbformat": 4,
 "nbformat_minor": 2
}

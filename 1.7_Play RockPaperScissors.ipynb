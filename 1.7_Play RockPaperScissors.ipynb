{
 "cells": [
  {
   "cell_type": "markdown",
   "metadata": {},
   "source": [
    "### Python Basics"
   ]
  },
  {
   "cell_type": "markdown",
   "metadata": {},
   "source": [
    "---"
   ]
  },
  {
   "cell_type": "code",
   "execution_count": 2,
   "metadata": {},
   "outputs": [],
   "source": [
    "# Incorporate the random library\n",
    "import random"
   ]
  },
  {
   "cell_type": "code",
   "execution_count": 3,
   "metadata": {},
   "outputs": [
    {
     "name": "stdout",
     "output_type": "stream",
     "text": [
      "Let's Play Rock Paper Scissors!\n"
     ]
    }
   ],
   "source": [
    "\n",
    "# Print Title\n",
    "print(\"Let's Play Rock Paper Scissors!\")\n",
    "\n",
    "# Specify the three options\n",
    "options = [\"r\", \"p\", \"s\"]\n",
    "\n",
    "# Computer Selection\n",
    "computer_choice = random.choice(options)"
   ]
  },
  {
   "cell_type": "code",
   "execution_count": 4,
   "metadata": {},
   "outputs": [
    {
     "name": "stdout",
     "output_type": "stream",
     "text": [
      "Make your Choice: (r)ock, (p)aper, (s)cissors? r\n"
     ]
    }
   ],
   "source": [
    "# User Selection\n",
    "user_choice = input(\"Make your Choice: (r)ock, (p)aper, (s)cissors? \")"
   ]
  },
  {
   "cell_type": "code",
   "execution_count": 5,
   "metadata": {},
   "outputs": [
    {
     "name": "stdout",
     "output_type": "stream",
     "text": [
      "You chose rock. The computer chose scissors.\n",
      "Yay! You won.\n"
     ]
    }
   ],
   "source": [
    "# Run Conditionals\n",
    "\n",
    "if (user_choice == \"r\" and computer_choice == \"p\"):\n",
    "  print(\"You chose rock. The computer chose paper.\")\n",
    "  print(\"Sorry. You lose.\")\n",
    "\n",
    "elif (user_choice == \"r\" and computer_choice == \"s\"):\n",
    "  print(\"You chose rock. The computer chose scissors.\")\n",
    "  print(\"Yay! You won.\")\n",
    "\n",
    "elif (user_choice == \"r\" and computer_choice == \"r\"):\n",
    "  print(\"You chose rock. The computer chose rock.\")\n",
    "  print(\"A smashing tie!\")\n",
    "\n",
    "elif (user_choice == \"p\" and computer_choice == \"p\"):\n",
    "  print(\"You chose paper. The computer chose paper.\")\n",
    "  print(\"A smashing tie!\")\n",
    "\n",
    "elif (user_choice == \"p\" and computer_choice == \"s\"):\n",
    "  print(\"You chose paper. The computer chose scissors.\")\n",
    "  print(\"Sorry. You lose.\")\n",
    "\n",
    "elif (user_choice == \"p\" and computer_choice == \"r\"):\n",
    "  print(\"You chose paper. The computer chose rock.\")\n",
    "  print(\"Yay! You won.\")\n",
    "\n",
    "elif (user_choice == \"s\" and computer_choice == \"p\"):\n",
    "  print(\"You chose scissors. The computer chose paper.\")\n",
    "  print(\"Yay! You won.\")\n",
    "\n",
    "elif (user_choice == \"s\" and computer_choice == \"s\"):\n",
    "  print(\"You chose scissors. The computer chose scissors.\")\n",
    "  print(\"A smashing tie!\")\n",
    "\n",
    "else:\n",
    "  print(\"You chose scissors. The computer chose rock.\")\n",
    "  print(\"Sorry. You lose.\")\n"
   ]
  }
 ],
 "metadata": {
  "kernelspec": {
   "display_name": "Python 3",
   "language": "python",
   "name": "python3"
  },
  "language_info": {
   "codemirror_mode": {
    "name": "ipython",
    "version": 3
   },
   "file_extension": ".py",
   "mimetype": "text/x-python",
   "name": "python",
   "nbconvert_exporter": "python",
   "pygments_lexer": "ipython3",
   "version": "3.6.5"
  }
 },
 "nbformat": 4,
 "nbformat_minor": 2
}

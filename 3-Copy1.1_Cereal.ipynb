{
 "cells": [
  {
   "cell_type": "markdown",
   "metadata": {},
   "source": [
    "# Dictionary"
   ]
  },
  {
   "cell_type": "markdown",
   "metadata": {},
   "source": [
    "---"
   ]
  },
  {
   "cell_type": "code",
   "execution_count": 1,
   "metadata": {},
   "outputs": [],
   "source": [
    "# Unlike lists, dictionaries store information in pairs\n",
    "# ---------------------------------------------------------------\n",
    "\n",
    "# A list of actors\n",
    "actors = [\"Tom Cruise\", \"Angelina Jolie\", \"Kristen Stewart\", \"Denzel Washington\"]"
   ]
  },
  {
   "cell_type": "code",
   "execution_count": 2,
   "metadata": {},
   "outputs": [
    {
     "name": "stdout",
     "output_type": "stream",
     "text": [
      "Tom Cruise\n"
     ]
    }
   ],
   "source": [
    "# A dictionary of an actor\n",
    "actor = {\"name\": \"Tom Cruise\"}\n",
    "print(actor[\"name\"])"
   ]
  },
  {
   "cell_type": "code",
   "execution_count": 3,
   "metadata": {},
   "outputs": [],
   "source": [
    "# ---------------------------------------------------------------\n",
    "\n",
    "# A dictionary can contain multiple pairs of information\n",
    "actress = {\"name\": \"Angelina Jolie\", \"genre\": \"Action\", \"nationality\": \"United States\"}\n",
    "\n",
    "# ---------------------------------------------------------------"
   ]
  },
  {
   "cell_type": "code",
   "execution_count": 4,
   "metadata": {},
   "outputs": [
    {
     "name": "stdout",
     "output_type": "stream",
     "text": [
      "Sylvester Stallone was in  Rocky\n"
     ]
    }
   ],
   "source": [
    "# A dictionary can contain multiple types of information\n",
    "another_actor = {\"name\": \"Sylvester Stallone\", \"age\": 62, \"married\": True, \"best movies\": [\"Rocky\", \"Rocky 2\", \"Rocky 3\"]}\n",
    "print(another_actor[\"name\"] + \" was in  \" + another_actor[\"best movies\"][0])\n",
    "# ---------------------------------------------------------------"
   ]
  },
  {
   "cell_type": "code",
   "execution_count": 5,
   "metadata": {},
   "outputs": [
    {
     "name": "stdout",
     "output_type": "stream",
     "text": [
      "Interstellar made 360 in the US.\n"
     ]
    }
   ],
   "source": [
    "# A dictionary can even contain another dictionary\n",
    "film = {\"title\": \"Interstellar\", \"revenues\": {\"United States\":360, \"China\":250, \"United Kingdom\":73}}\n",
    "print(film[\"title\"] + \" made \" + str(film[\"revenues\"][\"United States\"]) + \" in the US.\")\n",
    "# ---------------------------------------------------------------"
   ]
  },
  {
   "cell_type": "code",
   "execution_count": null,
   "metadata": {},
   "outputs": [],
   "source": []
  }
 ],
 "metadata": {
  "kernelspec": {
   "display_name": "Python 3",
   "language": "python",
   "name": "python3"
  },
  "language_info": {
   "codemirror_mode": {
    "name": "ipython",
    "version": 3
   },
   "file_extension": ".py",
   "mimetype": "text/x-python",
   "name": "python",
   "nbconvert_exporter": "python",
   "pygments_lexer": "ipython3",
   "version": "3.6.5"
  }
 },
 "nbformat": 4,
 "nbformat_minor": 2
}

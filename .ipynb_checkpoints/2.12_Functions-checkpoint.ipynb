{
 "cells": [
  {
   "cell_type": "markdown",
   "metadata": {},
   "source": [
    "# Functions"
   ]
  },
  {
   "cell_type": "markdown",
   "metadata": {},
   "source": [
    "---"
   ]
  },
  {
   "cell_type": "code",
   "execution_count": 1,
   "metadata": {},
   "outputs": [],
   "source": [
    "# Define the function and tell it to print \"Hello!\" when called\n",
    "def printHello():\n",
    "    print(\"Hello!\")"
   ]
  },
  {
   "cell_type": "code",
   "execution_count": 2,
   "metadata": {},
   "outputs": [
    {
     "name": "stdout",
     "output_type": "stream",
     "text": [
      "Hello!\n"
     ]
    }
   ],
   "source": [
    "# Call the function within the application to ensure the code is run\n",
    "printHello()\n",
    "#-------------#"
   ]
  },
  {
   "cell_type": "code",
   "execution_count": 3,
   "metadata": {},
   "outputs": [],
   "source": [
    "# Functions that take in and use parameters can also be defined\n",
    "def printName(name):\n",
    "    print(\"Hello \" + name + \"!\")"
   ]
  },
  {
   "cell_type": "code",
   "execution_count": 4,
   "metadata": {},
   "outputs": [
    {
     "name": "stdout",
     "output_type": "stream",
     "text": [
      "Hello Bob Smith!\n"
     ]
    }
   ],
   "source": [
    "# When calling a function with a parameter, a parameter must be passed into the function\n",
    "printName(\"Bob Smith\")"
   ]
  },
  {
   "cell_type": "code",
   "execution_count": 5,
   "metadata": {},
   "outputs": [],
   "source": [
    "# The prime use case for functions is in being able to run the same code for different values\n",
    "listOne = [1,2,3,4,5,6,7,8,9,10]\n",
    "listTwo = [11,12,13,14,15]\n",
    "\n",
    "def listInformation(simpleList):\n",
    "    print(\"The values within the list are...\")\n",
    "    for value in simpleList:\n",
    "        print(value)\n",
    "    print(\"The length of this list is... \" + str(len(simpleList)))"
   ]
  },
  {
   "cell_type": "code",
   "execution_count": 6,
   "metadata": {},
   "outputs": [
    {
     "name": "stdout",
     "output_type": "stream",
     "text": [
      "The values within the list are...\n",
      "1\n",
      "2\n",
      "3\n",
      "4\n",
      "5\n",
      "6\n",
      "7\n",
      "8\n",
      "9\n",
      "10\n",
      "The length of this list is... 10\n",
      "The values within the list are...\n",
      "11\n",
      "12\n",
      "13\n",
      "14\n",
      "15\n",
      "The length of this list is... 5\n"
     ]
    }
   ],
   "source": [
    "listInformation(listOne)\n",
    "listInformation(listTwo)"
   ]
  },
  {
   "cell_type": "code",
   "execution_count": null,
   "metadata": {},
   "outputs": [],
   "source": []
  }
 ],
 "metadata": {
  "kernelspec": {
   "display_name": "Python 3",
   "language": "python",
   "name": "python3"
  },
  "language_info": {
   "codemirror_mode": {
    "name": "ipython",
    "version": 3
   },
   "file_extension": ".py",
   "mimetype": "text/x-python",
   "name": "python",
   "nbconvert_exporter": "python",
   "pygments_lexer": "ipython3",
   "version": "3.6.5"
  }
 },
 "nbformat": 4,
 "nbformat_minor": 2
}

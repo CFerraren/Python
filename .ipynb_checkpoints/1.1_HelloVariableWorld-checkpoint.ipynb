{
 "cells": [
  {
   "cell_type": "markdown",
   "metadata": {},
   "source": [
    "### Python Basics"
   ]
  },
  {
   "cell_type": "markdown",
   "metadata": {},
   "source": [
    "---"
   ]
  },
  {
   "cell_type": "code",
   "execution_count": 2,
   "metadata": {},
   "outputs": [],
   "source": [
    "# Create a variable called 'name' that holds a string\n",
    "name = \"Jacob Deming\"\n",
    "\n",
    "# Create a variable called 'country' that holds a string\n",
    "country = \"United States\"\n",
    "\n",
    "# Create a variable called 'age' that holds an integer\n",
    "age = 25\n",
    "\n",
    "# Create a variable called 'hourly_wage' that holds an integer\n",
    "hourly_wage = 15\n",
    "\n",
    "# Calculate the daily wage for the user\n",
    "daily_wage = hourly_wage * 8\n",
    "\n",
    "# Create a variable called 'satisfied' that holds a boolean\n",
    "satisfied = True\n"
   ]
  },
  {
   "cell_type": "code",
   "execution_count": 3,
   "metadata": {},
   "outputs": [
    {
     "name": "stdout",
     "output_type": "stream",
     "text": [
      "Hello Jacob Deming!\n"
     ]
    }
   ],
   "source": [
    "# Print out \"Hello <name>!\"\n",
    "print(\"Hello \" + name + \"!\")"
   ]
  },
  {
   "cell_type": "code",
   "execution_count": 4,
   "metadata": {},
   "outputs": [
    {
     "name": "stdout",
     "output_type": "stream",
     "text": [
      "You live in United States\n"
     ]
    }
   ],
   "source": [
    "# Print out what country the user entered\n",
    "print(\"You live in \" + country)"
   ]
  },
  {
   "cell_type": "code",
   "execution_count": 5,
   "metadata": {},
   "outputs": [
    {
     "name": "stdout",
     "output_type": "stream",
     "text": [
      "You are 25 years old\n"
     ]
    }
   ],
   "source": [
    "# Print out the user's age\n",
    "print(\"You are \" + str(age) + \" years old\")"
   ]
  },
  {
   "cell_type": "code",
   "execution_count": 6,
   "metadata": {},
   "outputs": [
    {
     "name": "stdout",
     "output_type": "stream",
     "text": [
      "You make 120 per day\n"
     ]
    }
   ],
   "source": [
    "# Print out the daily wage that was calculated\n",
    "print(\"You make \" + str(daily_wage) + \" per day\")"
   ]
  },
  {
   "cell_type": "code",
   "execution_count": 7,
   "metadata": {},
   "outputs": [
    {
     "name": "stdout",
     "output_type": "stream",
     "text": [
      "Are you satisfied with your current wage? True\n"
     ]
    }
   ],
   "source": [
    "# Print out whether the users were satisfied\n",
    "print(\"Are you satisfied with your current wage? \" + str(satisfied))"
   ]
  },
  {
   "cell_type": "code",
   "execution_count": null,
   "metadata": {},
   "outputs": [],
   "source": []
  }
 ],
 "metadata": {
  "kernelspec": {
   "display_name": "Python 3",
   "language": "python",
   "name": "python3"
  },
  "language_info": {
   "codemirror_mode": {
    "name": "ipython",
    "version": 3
   },
   "file_extension": ".py",
   "mimetype": "text/x-python",
   "name": "python",
   "nbconvert_exporter": "python",
   "pygments_lexer": "ipython3",
   "version": "3.6.5"
  }
 },
 "nbformat": 4,
 "nbformat_minor": 2
}

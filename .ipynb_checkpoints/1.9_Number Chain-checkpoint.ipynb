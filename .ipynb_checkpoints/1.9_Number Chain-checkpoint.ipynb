{
 "cells": [
  {
   "cell_type": "markdown",
   "metadata": {},
   "source": [
    "### Python Basics"
   ]
  },
  {
   "cell_type": "markdown",
   "metadata": {},
   "source": [
    "---"
   ]
  },
  {
   "cell_type": "code",
   "execution_count": 1,
   "metadata": {},
   "outputs": [
    {
     "name": "stdout",
     "output_type": "stream",
     "text": [
      "How many numbers? 12\n",
      "0\n",
      "1\n",
      "2\n",
      "3\n",
      "4\n",
      "5\n",
      "6\n",
      "7\n",
      "8\n",
      "9\n",
      "10\n",
      "11\n",
      "12\n",
      "Continue the chain: (y)es or (n)o? n\n"
     ]
    }
   ],
   "source": [
    "# Initial variable to track game play\n",
    "user_play = \"y\"\n",
    "\n",
    "# While we are still playing...\n",
    "while user_play == \"y\":\n",
    "  \n",
    "  # Ask the user how many numbers to loop through\n",
    "  user_number = input(\"How many numbers? \") \n",
    "\n",
    "  # Loop through the numbers. (Be sure to cast the string into an integer.)\n",
    "  for x in range(int(user_number) + 1):\n",
    "\n",
    "    # Print each number in the range\n",
    "    print(x)\n",
    "\n",
    "  # Once complete...\n",
    "  user_play = input(\"Continue the chain: (y)es or (n)o? \")"
   ]
  }
 ],
 "metadata": {
  "kernelspec": {
   "display_name": "Python 3",
   "language": "python",
   "name": "python3"
  },
  "language_info": {
   "codemirror_mode": {
    "name": "ipython",
    "version": 3
   },
   "file_extension": ".py",
   "mimetype": "text/x-python",
   "name": "python",
   "nbconvert_exporter": "python",
   "pygments_lexer": "ipython3",
   "version": "3.6.5"
  }
 },
 "nbformat": 4,
 "nbformat_minor": 2
}

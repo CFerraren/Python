{
 "cells": [
  {
   "cell_type": "markdown",
   "metadata": {},
   "source": [
    "### Python Basics"
   ]
  },
  {
   "cell_type": "markdown",
   "metadata": {},
   "source": [
    "---"
   ]
  },
  {
   "cell_type": "code",
   "execution_count": 1,
   "metadata": {},
   "outputs": [
    {
     "name": "stdout",
     "output_type": "stream",
     "text": [
      "0\n",
      "1\n",
      "2\n",
      "3\n",
      "4\n",
      "5\n",
      "6\n",
      "7\n",
      "8\n",
      "9\n"
     ]
    }
   ],
   "source": [
    "# A For loop moves through a given range of numbers\n",
    "# If only one number is provided it will loop from 0 to that number\n",
    "for x in range(10):\n",
    "    print(x)"
   ]
  },
  {
   "cell_type": "code",
   "execution_count": 2,
   "metadata": {},
   "outputs": [
    {
     "name": "stdout",
     "output_type": "stream",
     "text": [
      "20\n",
      "21\n",
      "22\n",
      "23\n",
      "24\n",
      "25\n",
      "26\n",
      "27\n",
      "28\n",
      "29\n"
     ]
    }
   ],
   "source": [
    "# If two numbers are provided then a For loop will loop from the first number up until it reaches the second number\n",
    "for x in range(20,30):\n",
    "    print(x)"
   ]
  },
  {
   "cell_type": "code",
   "execution_count": 3,
   "metadata": {},
   "outputs": [
    {
     "name": "stdout",
     "output_type": "stream",
     "text": [
      "Peanut\n",
      "Butter\n",
      "Jelly\n",
      "Time\n",
      "Is\n",
      "Now\n"
     ]
    }
   ],
   "source": [
    "# If a list is provided, then the For loop will loop through each element within the list\n",
    "for x in [\"Peanut\",\"Butter\",\"Jelly\",\"Time\",\"Is\",\"Now\"]:\n",
    "    print(x)"
   ]
  },
  {
   "cell_type": "code",
   "execution_count": 4,
   "metadata": {},
   "outputs": [
    {
     "name": "stdout",
     "output_type": "stream",
     "text": [
      "Whee! Merry-Go-Rounds are great!\n",
      "Would you like to go on the Merry-Go-Round again? n\n"
     ]
    }
   ],
   "source": [
    "# A While Loop will continue to loop through the code contained within it until some condition is met\n",
    "x = \"Yes\"\n",
    "while x == \"Yes\":\n",
    "    print(\"Whee! Merry-Go-Rounds are great!\")\n",
    "    x = input(\"Would you like to go on the Merry-Go-Round again? \")"
   ]
  },
  {
   "cell_type": "code",
   "execution_count": null,
   "metadata": {},
   "outputs": [],
   "source": []
  }
 ],
 "metadata": {
  "kernelspec": {
   "display_name": "Python 3",
   "language": "python",
   "name": "python3"
  },
  "language_info": {
   "codemirror_mode": {
    "name": "ipython",
    "version": 3
   },
   "file_extension": ".py",
   "mimetype": "text/x-python",
   "name": "python",
   "nbconvert_exporter": "python",
   "pygments_lexer": "ipython3",
   "version": "3.6.5"
  }
 },
 "nbformat": 4,
 "nbformat_minor": 2
}

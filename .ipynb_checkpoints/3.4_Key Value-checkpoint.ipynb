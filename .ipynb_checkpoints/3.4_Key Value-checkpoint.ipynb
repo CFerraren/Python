{
 "cells": [
  {
   "cell_type": "markdown",
   "metadata": {},
   "source": [
    "# Key Value Pair"
   ]
  },
  {
   "cell_type": "markdown",
   "metadata": {},
   "source": [
    "---"
   ]
  },
  {
   "cell_type": "code",
   "execution_count": 1,
   "metadata": {},
   "outputs": [],
   "source": [
    "# Two Dictionaries\n",
    "actress = {\"name\": \"Angelina Jolie\", \"genre\": \"Action\", \"nationality\": \"United States\"}\n",
    "actor = {\"name\": \"Adam Sandler\", \"genre\": \"comedy\", \"nationality\": \"United States\"}"
   ]
  },
  {
   "cell_type": "code",
   "execution_count": 2,
   "metadata": {},
   "outputs": [
    {
     "name": "stdout",
     "output_type": "stream",
     "text": [
      "dict_keys(['name', 'genre', 'nationality'])\n"
     ]
    }
   ],
   "source": [
    "# Access all the keys\n",
    "print(actor.keys())"
   ]
  },
  {
   "cell_type": "code",
   "execution_count": 3,
   "metadata": {},
   "outputs": [
    {
     "name": "stdout",
     "output_type": "stream",
     "text": [
      "dict_values(['Angelina Jolie', 'Action', 'United States'])\n"
     ]
    }
   ],
   "source": [
    "# Access all values\n",
    "print(actress.values())"
   ]
  },
  {
   "cell_type": "code",
   "execution_count": 4,
   "metadata": {},
   "outputs": [
    {
     "name": "stdout",
     "output_type": "stream",
     "text": [
      "This is a key: name\n",
      "This is a key: genre\n",
      "This is a key: nationality\n"
     ]
    }
   ],
   "source": [
    "# We can iterate through dictionaries with a for-loop\n",
    "for key in actress.keys():\n",
    "    print(\"This is a key:\", key)"
   ]
  },
  {
   "cell_type": "code",
   "execution_count": 5,
   "metadata": {},
   "outputs": [
    {
     "name": "stdout",
     "output_type": "stream",
     "text": [
      "This is a value: Angelina Jolie\n",
      "This is a value: Action\n",
      "This is a value: United States\n"
     ]
    }
   ],
   "source": [
    "# Looping through values\n",
    "for value in actress.values():\n",
    "    print(\"This is a value:\", value)"
   ]
  },
  {
   "cell_type": "code",
   "execution_count": 6,
   "metadata": {},
   "outputs": [
    {
     "name": "stdout",
     "output_type": "stream",
     "text": [
      "This is a key: name\n",
      "This is a value: Angelina Jolie\n",
      "This is a key: genre\n",
      "This is a value: Action\n",
      "This is a key: nationality\n",
      "This is a value: United States\n"
     ]
    }
   ],
   "source": [
    "# Use items() to loop through both keys and values\n",
    "for key, value in actress.items():\n",
    "    print(\"This is a key:\", key)\n",
    "    print(\"This is a value:\", value)"
   ]
  },
  {
   "cell_type": "code",
   "execution_count": 7,
   "metadata": {},
   "outputs": [
    {
     "name": "stdout",
     "output_type": "stream",
     "text": [
      "{'title': 'Interstellar'}\n"
     ]
    }
   ],
   "source": [
    "# ---------------------------------------------------------------\n",
    "film = {\"title\": \"Interstellar\", \"revenues\": {\"United States\":360, \"China\":250, \"United Kingdom\":73}}\n",
    "# Use del to delete a key-value pair from a dictionary\n",
    "del film[\"revenues\"]\n",
    "print(film)"
   ]
  },
  {
   "cell_type": "code",
   "execution_count": 8,
   "metadata": {},
   "outputs": [
    {
     "name": "stdout",
     "output_type": "stream",
     "text": [
      "{'name': 'Adam Sandler', 'genre': 'drama', 'nationality': 'United States', 'hair': 'brown'}\n"
     ]
    }
   ],
   "source": [
    "# ---------------------------------------------------------------\n",
    "\n",
    "# Add a key-value pair to a dictionary\n",
    "actor[\"hair\"] = \"brown\"\n",
    "actor[\"genre\"] = \"drama\"\n",
    "print(actor)"
   ]
  },
  {
   "cell_type": "code",
   "execution_count": null,
   "metadata": {},
   "outputs": [],
   "source": []
  }
 ],
 "metadata": {
  "kernelspec": {
   "display_name": "Python 3",
   "language": "python",
   "name": "python3"
  },
  "language_info": {
   "codemirror_mode": {
    "name": "ipython",
    "version": 3
   },
   "file_extension": ".py",
   "mimetype": "text/x-python",
   "name": "python",
   "nbconvert_exporter": "python",
   "pygments_lexer": "ipython3",
   "version": "3.6.5"
  }
 },
 "nbformat": 4,
 "nbformat_minor": 2
}

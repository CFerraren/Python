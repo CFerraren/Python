{
 "cells": [
  {
   "cell_type": "markdown",
   "metadata": {},
   "source": [
    "# Apply Dictionary"
   ]
  },
  {
   "cell_type": "markdown",
   "metadata": {},
   "source": [
    "---"
   ]
  },
  {
   "cell_type": "code",
   "execution_count": 1,
   "metadata": {},
   "outputs": [],
   "source": [
    "store_items = {\n",
    "    \"footballs\": 20,\n",
    "    \"basketballs\": 2,\n",
    "    \"shorts\": 80,\n",
    "    \"bats\": 2\n",
    "}"
   ]
  },
  {
   "cell_type": "code",
   "execution_count": 2,
   "metadata": {},
   "outputs": [
    {
     "name": "stdout",
     "output_type": "stream",
     "text": [
      "What would like to do today? (A)dd new item, (R)emove an item, or (S)how all items a\n",
      "Sorry the action is not available\n",
      "Would you like to continue working? (y)es or (n)o y\n",
      "What would like to do today? (A)dd new item, (R)emove an item, or (S)how all items A\n",
      "What would you like to add? Oil\n",
      "How many would you like to add? 2\n",
      "Oil 2 added!\n",
      "Would you like to continue working? (y)es or (n)o n\n"
     ]
    }
   ],
   "source": [
    "manage_system = \"y\"\n",
    "\n",
    "# Run the code so long as the user wants to manage the systm\n",
    "while manage_system == \"y\":\n",
    "\n",
    "    # Take users input\n",
    "    action_item = input(\"What would like to do today? (A)dd new item, (R)emove an item, or (S)how all items \")\n",
    "\n",
    "    if action_item == \"A\":\n",
    "\n",
    "        # Input item to add\n",
    "        item_added = input(\"What would you like to add? \")\n",
    "        amount_added = input(\"How many would you like to add? \")\n",
    "\n",
    "        # Add item to dictionary\n",
    "        store_items[item_added] = amount_added\n",
    "\n",
    "        # Print confirmation\n",
    "        print(item_added + \" \" + amount_added + \" added!\")\n",
    "\n",
    "    elif action_item == \"R\":\n",
    "\n",
    "        # Input item to be removed\n",
    "        item_removed = input(\"Which item would you like to be removed? \")\n",
    "\n",
    "        # Check if item exists\n",
    "        if item_removed in store_items:\n",
    "\n",
    "            # Remove item\n",
    "            del store_items[item_removed]\n",
    "\n",
    "            # Print confirmation\n",
    "            print(item_removed + \" has been removed! \")\n",
    "\n",
    "        # Print error if item is does not exist\n",
    "        else:\n",
    "            print(\"That item does not exist\")\n",
    "\n",
    "    elif action_item == \"S\":\n",
    "\n",
    "        print(\"Store inventory\")\n",
    "        print(\"----------\")\n",
    "\n",
    "        # Iterate through all keys and values\n",
    "        for key, value in store_items.items():\n",
    "\n",
    "            # Print all items\n",
    "            print(key + \": \" + str(value))\n",
    "        print(\"----------\")\n",
    "\n",
    "    else:\n",
    "        print(\"Sorry the action is not available\")\n",
    "\n",
    "    # Check if the user wants to continue working within the system\n",
    "    manage_system = input(\"Would you like to continue working? (y)es or (n)o \")"
   ]
  },
  {
   "cell_type": "code",
   "execution_count": 3,
   "metadata": {},
   "outputs": [
    {
     "data": {
      "text/plain": [
       "{'footballs': 20, 'basketballs': 2, 'shorts': 80, 'bats': 2, 'Oil': '2'}"
      ]
     },
     "execution_count": 3,
     "metadata": {},
     "output_type": "execute_result"
    }
   ],
   "source": [
    "store_items"
   ]
  },
  {
   "cell_type": "code",
   "execution_count": null,
   "metadata": {},
   "outputs": [],
   "source": []
  }
 ],
 "metadata": {
  "kernelspec": {
   "display_name": "Python 3",
   "language": "python",
   "name": "python3"
  },
  "language_info": {
   "codemirror_mode": {
    "name": "ipython",
    "version": 3
   },
   "file_extension": ".py",
   "mimetype": "text/x-python",
   "name": "python",
   "nbconvert_exporter": "python",
   "pygments_lexer": "ipython3",
   "version": "3.6.5"
  }
 },
 "nbformat": 4,
 "nbformat_minor": 2
}

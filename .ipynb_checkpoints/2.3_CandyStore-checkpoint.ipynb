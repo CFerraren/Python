{
 "cells": [
  {
   "cell_type": "markdown",
   "metadata": {},
   "source": [
    "### Python Basics"
   ]
  },
  {
   "cell_type": "markdown",
   "metadata": {},
   "source": [
    "---"
   ]
  },
  {
   "cell_type": "code",
   "execution_count": 1,
   "metadata": {},
   "outputs": [],
   "source": [
    "# The list of candies to print to the screen\n",
    "candyList = [\"Snickers\", \"Kit Kat\", \"Sour Patch Kids\", \"Juicy Fruit\", \"Sweedish Fish\", \"Skittles\", \"Hershey Bar\", \"Skittles\", \"Starbursts\", \"M&Ms\"]\n",
    "\n",
    "# The amount of candy the user will be allowed to choose\n",
    "allowance = 5\n",
    "\n",
    "# The list used to store all of the candies selected inside of\n",
    "candyCart = []"
   ]
  },
  {
   "cell_type": "code",
   "execution_count": 2,
   "metadata": {},
   "outputs": [
    {
     "name": "stdout",
     "output_type": "stream",
     "text": [
      "[0] Snickers\n",
      "[1] Kit Kat\n",
      "[2] Sour Patch Kids\n",
      "[3] Juicy Fruit\n",
      "[4] Sweedish Fish\n",
      "[5] Skittles\n",
      "[6] Hershey Bar\n",
      "[5] Skittles\n",
      "[8] Starbursts\n",
      "[9] M&Ms\n"
     ]
    }
   ],
   "source": [
    "# Print all of the candies to the screen and their index in brackets\n",
    "for candy in candyList:\n",
    "    print(\"[\" + str(candyList.index(candy)) + \"] \" + candy)"
   ]
  },
  {
   "cell_type": "code",
   "execution_count": 3,
   "metadata": {},
   "outputs": [
    {
     "name": "stdout",
     "output_type": "stream",
     "text": [
      "Which candy would you like to bring home? 2\n",
      "Which candy would you like to bring home? 5\n",
      "Which candy would you like to bring home? 1\n",
      "Which candy would you like to bring home? 7\n",
      "Which candy would you like to bring home? 8\n"
     ]
    }
   ],
   "source": [
    "# Run through a loop which allows the user to choose which candies to take home with them\n",
    "for x in range(allowance):\n",
    "    selected = input(\"Which candy would you like to bring home? \")\n",
    "\n",
    "    # Add the candy at the index chosen to the candyCart list\n",
    "    candyCart.append(candyList[int(selected)])"
   ]
  },
  {
   "cell_type": "code",
   "execution_count": 4,
   "metadata": {},
   "outputs": [
    {
     "name": "stdout",
     "output_type": "stream",
     "text": [
      "I brought home with me...\n",
      "Sour Patch Kids\n",
      "Skittles\n",
      "Kit Kat\n",
      "Skittles\n",
      "Starbursts\n"
     ]
    }
   ],
   "source": [
    "# Loop through the candyCart to say what candies were brought home\n",
    "print(\"I brought home with me...\")\n",
    "for candy in candyCart:\n",
    "    print(candy)"
   ]
  },
  {
   "cell_type": "code",
   "execution_count": null,
   "metadata": {},
   "outputs": [],
   "source": []
  }
 ],
 "metadata": {
  "kernelspec": {
   "display_name": "Python 3",
   "language": "python",
   "name": "python3"
  },
  "language_info": {
   "codemirror_mode": {
    "name": "ipython",
    "version": 3
   },
   "file_extension": ".py",
   "mimetype": "text/x-python",
   "name": "python",
   "nbconvert_exporter": "python",
   "pygments_lexer": "ipython3",
   "version": "3.6.5"
  }
 },
 "nbformat": 4,
 "nbformat_minor": 2
}

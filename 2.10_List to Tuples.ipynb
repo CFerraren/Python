{
 "cells": [
  {
   "cell_type": "markdown",
   "metadata": {},
   "source": [
    "# Zipping to Tuples"
   ]
  },
  {
   "cell_type": "markdown",
   "metadata": {},
   "source": [
    "---"
   ]
  },
  {
   "cell_type": "code",
   "execution_count": 1,
   "metadata": {},
   "outputs": [],
   "source": [
    "# Three Lists\n",
    "indexes = [1, 2, 3, 4]\n",
    "employees = [\"Michael\", \"Dwight\", \"Meredith\", \"Kelly\"]\n",
    "department = [\"Boss\", \"Sales\", \"Sales\", \"HR\"]"
   ]
  },
  {
   "cell_type": "code",
   "execution_count": 2,
   "metadata": {},
   "outputs": [
    {
     "name": "stdout",
     "output_type": "stream",
     "text": [
      "(1, 'Michael', 'Boss')\n",
      "(2, 'Dwight', 'Sales')\n",
      "(3, 'Meredith', 'Sales')\n",
      "(4, 'Kelly', 'HR')\n"
     ]
    }
   ],
   "source": [
    "# Zip all three lists together into tuples\n",
    "roster = zip(indexes, employees, department)\n",
    "\n",
    "# Print the contents of each row\n",
    "for employee in roster:\n",
    "    print(employee)"
   ]
  },
  {
   "cell_type": "code",
   "execution_count": null,
   "metadata": {},
   "outputs": [],
   "source": []
  }
 ],
 "metadata": {
  "kernelspec": {
   "display_name": "Python 3",
   "language": "python",
   "name": "python3"
  },
  "language_info": {
   "codemirror_mode": {
    "name": "ipython",
    "version": 3
   },
   "file_extension": ".py",
   "mimetype": "text/x-python",
   "name": "python",
   "nbconvert_exporter": "python",
   "pygments_lexer": "ipython3",
   "version": "3.6.5"
  }
 },
 "nbformat": 4,
 "nbformat_minor": 2
}

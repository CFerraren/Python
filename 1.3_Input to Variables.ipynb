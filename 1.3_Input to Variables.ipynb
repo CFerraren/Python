{
 "cells": [
  {
   "cell_type": "markdown",
   "metadata": {},
   "source": [
    "### Python Basics"
   ]
  },
  {
   "cell_type": "markdown",
   "metadata": {},
   "source": [
    "---"
   ]
  },
  {
   "cell_type": "code",
   "execution_count": 1,
   "metadata": {},
   "outputs": [
    {
     "name": "stdout",
     "output_type": "stream",
     "text": [
      "What is your name? John Doe\n"
     ]
    }
   ],
   "source": [
    "# Take input of you and your neighbor\n",
    "your_first_name = input(\"What is your name? \")"
   ]
  },
  {
   "cell_type": "code",
   "execution_count": 2,
   "metadata": {},
   "outputs": [
    {
     "name": "stdout",
     "output_type": "stream",
     "text": [
      "What is your neighbors name? Neighbor Doe\n"
     ]
    }
   ],
   "source": [
    "neighbor_first_name = input(\"What is your neighbors name? \")"
   ]
  },
  {
   "cell_type": "code",
   "execution_count": 3,
   "metadata": {},
   "outputs": [
    {
     "name": "stdout",
     "output_type": "stream",
     "text": [
      "How many months have you been coding? 2\n"
     ]
    }
   ],
   "source": [
    "# Take how long each of you have been coding\n",
    "months_you_coded = input(\"How many months have you been coding? \")"
   ]
  },
  {
   "cell_type": "code",
   "execution_count": 4,
   "metadata": {},
   "outputs": [
    {
     "name": "stdout",
     "output_type": "stream",
     "text": [
      "How many months has your neighbor been coding? 4\n"
     ]
    }
   ],
   "source": [
    "months_neighbor_coded = input(\"How many months has your neighbor been coding? \")"
   ]
  },
  {
   "cell_type": "code",
   "execution_count": 5,
   "metadata": {},
   "outputs": [],
   "source": [
    "# Add total month\n",
    "total_months_coded = int(months_you_coded) + int(months_neighbor_coded)"
   ]
  },
  {
   "cell_type": "code",
   "execution_count": 6,
   "metadata": {},
   "outputs": [
    {
     "name": "stdout",
     "output_type": "stream",
     "text": [
      "I am John Doe and my neighbor is Neighbor Doe\n",
      "Together we have been coding for 6 months!\n"
     ]
    }
   ],
   "source": [
    "# Print results\n",
    "print(\"I am \" + your_first_name + \" and my neighbor is \" + neighbor_first_name)\n",
    "print(\"Together we have been coding for \" + str(total_months_coded) + \" months!\")"
   ]
  },
  {
   "cell_type": "code",
   "execution_count": null,
   "metadata": {},
   "outputs": [],
   "source": []
  }
 ],
 "metadata": {
  "kernelspec": {
   "display_name": "Python 3",
   "language": "python",
   "name": "python3"
  },
  "language_info": {
   "codemirror_mode": {
    "name": "ipython",
    "version": 3
   },
   "file_extension": ".py",
   "mimetype": "text/x-python",
   "name": "python",
   "nbconvert_exporter": "python",
   "pygments_lexer": "ipython3",
   "version": "3.6.5"
  }
 },
 "nbformat": 4,
 "nbformat_minor": 2
}

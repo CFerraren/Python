{
 "cells": [
  {
   "cell_type": "markdown",
   "metadata": {},
   "source": [
    "### Python Basics"
   ]
  },
  {
   "cell_type": "markdown",
   "metadata": {},
   "source": [
    "---"
   ]
  },
  {
   "cell_type": "code",
   "execution_count": 1,
   "metadata": {},
   "outputs": [],
   "source": [
    "# Initial variable to track shopping status\n",
    "shopping = 'y'\n",
    "\n",
    "# List to track pie purchases\n",
    "pie_purchases = []\n",
    "\n",
    "# Pie List \n",
    "pie_list = [\"Pecan\", \"Apple Crisp\", \"Bean\", \"Banoffee\", \"Black Bun\", \n",
    "            \"Blueberry\", \"Buko\", \"Burek\", \"Tamale\", \"Steak\"]"
   ]
  },
  {
   "cell_type": "code",
   "execution_count": 2,
   "metadata": {},
   "outputs": [
    {
     "name": "stdout",
     "output_type": "stream",
     "text": [
      "Welcome to the House of Pies! Here are our pies:\n"
     ]
    }
   ],
   "source": [
    "# Display initial message\n",
    "print(\"Welcome to the House of Pies! Here are our pies:\")"
   ]
  },
  {
   "cell_type": "code",
   "execution_count": 3,
   "metadata": {},
   "outputs": [
    {
     "name": "stdout",
     "output_type": "stream",
     "text": [
      "---------------------------------------------------------------------\n",
      "(1) Pecan, (2) Apple Crisp, (3) Bean, (4) Banoffee,  (5) Black Bun, (6) Blueberry, (7) Buko, (8) Burek,  (9) Tamale, (10) Steak \n",
      "Which would you like? 1\n",
      "------------------------------------------------------------------------\n",
      "Great! We'll have that Pecan right out for you.\n",
      "Would you like to make another purchase: (y)es or (n)o? n\n"
     ]
    }
   ],
   "source": [
    "# While we are still shopping...\n",
    "while shopping == \"y\":\n",
    "\n",
    "  # Show pie selection prompt \n",
    "  print(\"---------------------------------------------------------------------\")\n",
    "  print(\"(1) Pecan, (2) Apple Crisp, (3) Bean, (4) Banoffee, \" +\n",
    "                     \" (5) Black Bun, (6) Blueberry, (7) Buko, (8) Burek, \" +\n",
    "                     \" (9) Tamale, (10) Steak \")\n",
    "\n",
    "  pie_choice = input(\"Which would you like? \")\n",
    "\n",
    "  # Add pie to the pie list\n",
    "  pie_purchases.append(pie_choice)\n",
    "\n",
    "  print(\"------------------------------------------------------------------------\")\n",
    "\n",
    "  # Inform the customer of the pie purchase\n",
    "  print(\"Great! We'll have that \" + pie_list[int(pie_choice) - 1] + \" right out for you.\")\n",
    "\n",
    "  # Provide exit option\n",
    "  shopping = input(\"Would you like to make another purchase: (y)es or (n)o? \")"
   ]
  },
  {
   "cell_type": "code",
   "execution_count": 4,
   "metadata": {},
   "outputs": [
    {
     "name": "stdout",
     "output_type": "stream",
     "text": [
      "------------------------------------------------------------------------\n",
      "You purchased a total of 1.\n"
     ]
    }
   ],
   "source": [
    "# Once the pie list is complete \n",
    "print(\"------------------------------------------------------------------------\")\n",
    "print(\"You purchased a total of \" + str(len(pie_purchases)) + \".\" )"
   ]
  },
  {
   "cell_type": "code",
   "execution_count": null,
   "metadata": {},
   "outputs": [],
   "source": []
  }
 ],
 "metadata": {
  "kernelspec": {
   "display_name": "Python 3",
   "language": "python",
   "name": "python3"
  },
  "language_info": {
   "codemirror_mode": {
    "name": "ipython",
    "version": 3
   },
   "file_extension": ".py",
   "mimetype": "text/x-python",
   "name": "python",
   "nbconvert_exporter": "python",
   "pygments_lexer": "ipython3",
   "version": "3.6.5"
  }
 },
 "nbformat": 4,
 "nbformat_minor": 2
}
